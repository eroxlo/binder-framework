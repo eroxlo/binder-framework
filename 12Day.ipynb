{
 "cells": [
  {
   "cell_type": "code",
   "execution_count": 42,
   "id": "1cb1e631",
   "metadata": {},
   "outputs": [],
   "source": [
    "import pandas as pd\n",
    "import numpy as np\n",
    "import re\n",
    "import matplotlib.pyplot as plt"
   ]
  },
  {
   "cell_type": "code",
   "execution_count": 6,
   "id": "18f299c3",
   "metadata": {},
   "outputs": [
    {
     "data": {
      "text/html": [
       "<div>\n",
       "<style scoped>\n",
       "    .dataframe tbody tr th:only-of-type {\n",
       "        vertical-align: middle;\n",
       "    }\n",
       "\n",
       "    .dataframe tbody tr th {\n",
       "        vertical-align: top;\n",
       "    }\n",
       "\n",
       "    .dataframe thead th {\n",
       "        text-align: right;\n",
       "    }\n",
       "</style>\n",
       "<table border=\"1\" class=\"dataframe\">\n",
       "  <thead>\n",
       "    <tr style=\"text-align: right;\">\n",
       "      <th></th>\n",
       "      <th>Company Name</th>\n",
       "      <th>company contact</th>\n",
       "      <th>company email</th>\n",
       "      <th>company phone</th>\n",
       "      <th>Address</th>\n",
       "      <th>City</th>\n",
       "      <th>State</th>\n",
       "      <th>Postcode</th>\n",
       "      <th>Industry</th>\n",
       "      <th>Industry descr</th>\n",
       "      <th>...</th>\n",
       "      <th>Savings from beginning receiving benefits</th>\n",
       "      <th>Borough</th>\n",
       "      <th>Latitude</th>\n",
       "      <th>Longitude</th>\n",
       "      <th>Community Board</th>\n",
       "      <th>Council District</th>\n",
       "      <th>Census Tract</th>\n",
       "      <th>BIN</th>\n",
       "      <th>BBL</th>\n",
       "      <th>NTA</th>\n",
       "    </tr>\n",
       "  </thead>\n",
       "  <tbody>\n",
       "    <tr>\n",
       "      <th>0</th>\n",
       "      <td>1 State Street</td>\n",
       "      <td>David Neiburg</td>\n",
       "      <td>eskoblo@energyspec.com</td>\n",
       "      <td>7186779077</td>\n",
       "      <td>1114 Avenue J</td>\n",
       "      <td>Brooklyn</td>\n",
       "      <td>NY</td>\n",
       "      <td>11230</td>\n",
       "      <td>Commercial</td>\n",
       "      <td>35 story building</td>\n",
       "      <td>...</td>\n",
       "      <td>349.78</td>\n",
       "      <td>Brooklyn</td>\n",
       "      <td>40.624784</td>\n",
       "      <td>-73.964920</td>\n",
       "      <td>314.0</td>\n",
       "      <td>44.0</td>\n",
       "      <td>534.0</td>\n",
       "      <td>3179818.0</td>\n",
       "      <td>3.067130e+09</td>\n",
       "      <td>Midwood</td>\n",
       "    </tr>\n",
       "    <tr>\n",
       "      <th>1</th>\n",
       "      <td>100 Church LLC</td>\n",
       "      <td>Edward A. Carroll</td>\n",
       "      <td>NaN</td>\n",
       "      <td>2125663000</td>\n",
       "      <td>100 Church Street</td>\n",
       "      <td>NY</td>\n",
       "      <td>NY</td>\n",
       "      <td>10007</td>\n",
       "      <td>Commercial</td>\n",
       "      <td>21 Floors</td>\n",
       "      <td>...</td>\n",
       "      <td>4423698.05</td>\n",
       "      <td>New York</td>\n",
       "      <td>40.712968</td>\n",
       "      <td>-74.009490</td>\n",
       "      <td>101.0</td>\n",
       "      <td>1.0</td>\n",
       "      <td>21.0</td>\n",
       "      <td>1001409.0</td>\n",
       "      <td>1.001250e+09</td>\n",
       "      <td>SoHo-TriBeCa-Civic Center-Little Italy</td>\n",
       "    </tr>\n",
       "    <tr>\n",
       "      <th>2</th>\n",
       "      <td>100 Wall Investments</td>\n",
       "      <td>Jerry Branam</td>\n",
       "      <td>NaN</td>\n",
       "      <td>2122487160</td>\n",
       "      <td>96 Wall Street</td>\n",
       "      <td>New York</td>\n",
       "      <td>NY</td>\n",
       "      <td>10005</td>\n",
       "      <td>Landlord</td>\n",
       "      <td>NaN</td>\n",
       "      <td>...</td>\n",
       "      <td>1814542.62</td>\n",
       "      <td>New York</td>\n",
       "      <td>40.705052</td>\n",
       "      <td>-74.007199</td>\n",
       "      <td>101.0</td>\n",
       "      <td>1.0</td>\n",
       "      <td>7.0</td>\n",
       "      <td>1000875.0</td>\n",
       "      <td>1.000380e+09</td>\n",
       "      <td>Battery Park City-Lower Manhattan</td>\n",
       "    </tr>\n",
       "    <tr>\n",
       "      <th>3</th>\n",
       "      <td>1-10 Bush Terminal Owner LP</td>\n",
       "      <td>Andrew Kimball</td>\n",
       "      <td>akimball@industrycity.com</td>\n",
       "      <td>3474178429</td>\n",
       "      <td>220 36th St, Suite 2A</td>\n",
       "      <td>Brooklyn</td>\n",
       "      <td>NY</td>\n",
       "      <td>11232</td>\n",
       "      <td>Landlord</td>\n",
       "      <td>Special Eligible Premises for eligible businesses</td>\n",
       "      <td>...</td>\n",
       "      <td>6755.31</td>\n",
       "      <td>Brooklyn</td>\n",
       "      <td>40.656061</td>\n",
       "      <td>-74.007334</td>\n",
       "      <td>307.0</td>\n",
       "      <td>38.0</td>\n",
       "      <td>2.0</td>\n",
       "      <td>3398687.0</td>\n",
       "      <td>3.006950e+09</td>\n",
       "      <td>Sunset Park West</td>\n",
       "    </tr>\n",
       "    <tr>\n",
       "      <th>4</th>\n",
       "      <td>120 Broadway Acquisitions JV, LLC (Ldmk)</td>\n",
       "      <td>Carl Letich</td>\n",
       "      <td>clettich@silvprop.com</td>\n",
       "      <td>2124064020</td>\n",
       "      <td>120 Broadway</td>\n",
       "      <td>New York</td>\n",
       "      <td>NY</td>\n",
       "      <td>10271</td>\n",
       "      <td>Commercial</td>\n",
       "      <td>NaN</td>\n",
       "      <td>...</td>\n",
       "      <td>3293055.08</td>\n",
       "      <td>New York</td>\n",
       "      <td>40.708546</td>\n",
       "      <td>-74.011041</td>\n",
       "      <td>101.0</td>\n",
       "      <td>1.0</td>\n",
       "      <td>7.0</td>\n",
       "      <td>1001026.0</td>\n",
       "      <td>1.000478e+09</td>\n",
       "      <td>Battery Park City-Lower Manhattan</td>\n",
       "    </tr>\n",
       "  </tbody>\n",
       "</table>\n",
       "<p>5 rows × 26 columns</p>\n",
       "</div>"
      ],
      "text/plain": [
       "                               Company Name    company contact  \\\n",
       "0                            1 State Street      David Neiburg   \n",
       "1                            100 Church LLC  Edward A. Carroll   \n",
       "2                      100 Wall Investments       Jerry Branam   \n",
       "3               1-10 Bush Terminal Owner LP     Andrew Kimball   \n",
       "4  120 Broadway Acquisitions JV, LLC (Ldmk)        Carl Letich   \n",
       "\n",
       "               company email company phone                Address      City  \\\n",
       "0     eskoblo@energyspec.com    7186779077          1114 Avenue J  Brooklyn   \n",
       "1                        NaN    2125663000      100 Church Street        NY   \n",
       "2                        NaN    2122487160         96 Wall Street  New York   \n",
       "3  akimball@industrycity.com    3474178429  220 36th St, Suite 2A  Brooklyn   \n",
       "4      clettich@silvprop.com    2124064020           120 Broadway  New York   \n",
       "\n",
       "  State  Postcode    Industry  \\\n",
       "0    NY     11230  Commercial   \n",
       "1    NY     10007  Commercial   \n",
       "2    NY     10005    Landlord   \n",
       "3    NY     11232    Landlord   \n",
       "4    NY     10271  Commercial   \n",
       "\n",
       "                                      Industry descr  ...  \\\n",
       "0                                  35 story building  ...   \n",
       "1                                          21 Floors  ...   \n",
       "2                                                NaN  ...   \n",
       "3  Special Eligible Premises for eligible businesses  ...   \n",
       "4                                                NaN  ...   \n",
       "\n",
       "  Savings from beginning receiving benefits   Borough   Latitude  Longitude  \\\n",
       "0                                    349.78  Brooklyn  40.624784 -73.964920   \n",
       "1                                4423698.05  New York  40.712968 -74.009490   \n",
       "2                                1814542.62  New York  40.705052 -74.007199   \n",
       "3                                   6755.31  Brooklyn  40.656061 -74.007334   \n",
       "4                                3293055.08  New York  40.708546 -74.011041   \n",
       "\n",
       "  Community Board  Council District  Census Tract        BIN           BBL  \\\n",
       "0           314.0              44.0         534.0  3179818.0  3.067130e+09   \n",
       "1           101.0               1.0          21.0  1001409.0  1.001250e+09   \n",
       "2           101.0               1.0           7.0  1000875.0  1.000380e+09   \n",
       "3           307.0              38.0           2.0  3398687.0  3.006950e+09   \n",
       "4           101.0               1.0           7.0  1001026.0  1.000478e+09   \n",
       "\n",
       "                                      NTA  \n",
       "0                                 Midwood  \n",
       "1  SoHo-TriBeCa-Civic Center-Little Italy  \n",
       "2       Battery Park City-Lower Manhattan  \n",
       "3                        Sunset Park West  \n",
       "4       Battery Park City-Lower Manhattan  \n",
       "\n",
       "[5 rows x 26 columns]"
      ]
     },
     "execution_count": 6,
     "metadata": {},
     "output_type": "execute_result"
    }
   ],
   "source": [
    "df = pd.read_csv (r'Value_of_Energy_Cost_Savings_Program_Savings_for_Businesses_-_FY2020.csv')\n",
    "df.head()"
   ]
  },
  {
   "cell_type": "code",
   "execution_count": 7,
   "id": "cd7138a3",
   "metadata": {},
   "outputs": [
    {
     "name": "stdout",
     "output_type": "stream",
     "text": [
      "<class 'pandas.core.frame.DataFrame'>\n",
      "RangeIndex: 450 entries, 0 to 449\n",
      "Data columns (total 26 columns):\n",
      " #   Column                                     Non-Null Count  Dtype  \n",
      "---  ------                                     --------------  -----  \n",
      " 0   Company Name                               450 non-null    object \n",
      " 1   company contact                            450 non-null    object \n",
      " 2   company email                              433 non-null    object \n",
      " 3   company phone                              450 non-null    object \n",
      " 4   Address                                    450 non-null    object \n",
      " 5   City                                       450 non-null    object \n",
      " 6   State                                      450 non-null    object \n",
      " 7   Postcode                                   450 non-null    int64  \n",
      " 8   Industry                                   450 non-null    object \n",
      " 9   Industry descr                             434 non-null    object \n",
      " 10  Company Type                               450 non-null    object \n",
      " 11  Current fulltime                           446 non-null    float64\n",
      " 12  Job created                                11 non-null     float64\n",
      " 13  Job retain                                 14 non-null     float64\n",
      " 14  Effective Date                             450 non-null    object \n",
      " 15  Total Savings                              450 non-null    float64\n",
      " 16  Savings from beginning receiving benefits  450 non-null    float64\n",
      " 17  Borough                                    450 non-null    object \n",
      " 18  Latitude                                   409 non-null    float64\n",
      " 19  Longitude                                  409 non-null    float64\n",
      " 20  Community Board                            409 non-null    float64\n",
      " 21  Council District                           409 non-null    float64\n",
      " 22  Census Tract                               409 non-null    float64\n",
      " 23  BIN                                        401 non-null    float64\n",
      " 24  BBL                                        401 non-null    float64\n",
      " 25  NTA                                        409 non-null    object \n",
      "dtypes: float64(12), int64(1), object(13)\n",
      "memory usage: 91.5+ KB\n"
     ]
    }
   ],
   "source": [
    "df.info()"
   ]
  },
  {
   "cell_type": "code",
   "execution_count": 8,
   "id": "209cd547",
   "metadata": {
    "scrolled": true
   },
   "outputs": [
    {
     "data": {
      "text/plain": [
       "Company Name                                 439\n",
       "company contact                              432\n",
       "company email                                420\n",
       "company phone                                430\n",
       "Address                                      421\n",
       "City                                          38\n",
       "State                                          1\n",
       "Postcode                                      96\n",
       "Industry                                       5\n",
       "Industry descr                               401\n",
       "Company Type                                   2\n",
       "Current fulltime                             158\n",
       "Job created                                    8\n",
       "Job retain                                    13\n",
       "Effective Date                               366\n",
       "Total Savings                                448\n",
       "Savings from beginning receiving benefits    450\n",
       "Borough                                        5\n",
       "Latitude                                     326\n",
       "Longitude                                    327\n",
       "Community Board                               48\n",
       "Council District                              38\n",
       "Census Tract                                 142\n",
       "BIN                                          308\n",
       "BBL                                          310\n",
       "NTA                                           79\n",
       "dtype: int64"
      ]
     },
     "execution_count": 8,
     "metadata": {},
     "output_type": "execute_result"
    }
   ],
   "source": [
    "df.nunique()"
   ]
  },
  {
   "cell_type": "code",
   "execution_count": 9,
   "id": "28253ab4",
   "metadata": {
    "scrolled": true
   },
   "outputs": [
    {
     "data": {
      "text/html": [
       "<div>\n",
       "<style scoped>\n",
       "    .dataframe tbody tr th:only-of-type {\n",
       "        vertical-align: middle;\n",
       "    }\n",
       "\n",
       "    .dataframe tbody tr th {\n",
       "        vertical-align: top;\n",
       "    }\n",
       "\n",
       "    .dataframe thead th {\n",
       "        text-align: right;\n",
       "    }\n",
       "</style>\n",
       "<table border=\"1\" class=\"dataframe\">\n",
       "  <thead>\n",
       "    <tr style=\"text-align: right;\">\n",
       "      <th></th>\n",
       "      <th>Company Name</th>\n",
       "      <th>company contact</th>\n",
       "      <th>company email</th>\n",
       "      <th>company phone</th>\n",
       "      <th>Address</th>\n",
       "      <th>City</th>\n",
       "      <th>State</th>\n",
       "      <th>Postcode</th>\n",
       "      <th>Industry</th>\n",
       "      <th>Industry descr</th>\n",
       "      <th>...</th>\n",
       "      <th>Savings from beginning receiving benefits</th>\n",
       "      <th>Borough</th>\n",
       "      <th>Latitude</th>\n",
       "      <th>Longitude</th>\n",
       "      <th>Community Board</th>\n",
       "      <th>Council District</th>\n",
       "      <th>Census Tract</th>\n",
       "      <th>BIN</th>\n",
       "      <th>BBL</th>\n",
       "      <th>NTA</th>\n",
       "    </tr>\n",
       "  </thead>\n",
       "  <tbody>\n",
       "    <tr>\n",
       "      <th>6</th>\n",
       "      <td>139 ACA Realty, Inc.</td>\n",
       "      <td>Eitan Chandally</td>\n",
       "      <td>barbara@dial7.com</td>\n",
       "      <td>7187076123</td>\n",
       "      <td>43-23 35th Street</td>\n",
       "      <td>Long Island City</td>\n",
       "      <td>NY</td>\n",
       "      <td>11101</td>\n",
       "      <td>Commercial</td>\n",
       "      <td>Limousine Service</td>\n",
       "      <td>...</td>\n",
       "      <td>129401.39</td>\n",
       "      <td>Queens</td>\n",
       "      <td>40.745706</td>\n",
       "      <td>-73.929565</td>\n",
       "      <td>402.0</td>\n",
       "      <td>26.0</td>\n",
       "      <td>179.0</td>\n",
       "      <td>4003160.0</td>\n",
       "      <td>4.002220e+09</td>\n",
       "      <td>Hunters Point-Sunnyside-West Maspeth</td>\n",
       "    </tr>\n",
       "    <tr>\n",
       "      <th>8</th>\n",
       "      <td>14-10 123rd Street LLC</td>\n",
       "      <td>Danica/Ivan Drazic</td>\n",
       "      <td>ddrazic@atjelectrical.com</td>\n",
       "      <td>7183210117</td>\n",
       "      <td>14-10 123rd Street</td>\n",
       "      <td>College Point</td>\n",
       "      <td>NY</td>\n",
       "      <td>11356</td>\n",
       "      <td>Commercial</td>\n",
       "      <td>Electrical Parts Mfg.</td>\n",
       "      <td>...</td>\n",
       "      <td>28752.48</td>\n",
       "      <td>Queens</td>\n",
       "      <td>40.785144</td>\n",
       "      <td>-73.844833</td>\n",
       "      <td>407.0</td>\n",
       "      <td>19.0</td>\n",
       "      <td>929.0</td>\n",
       "      <td>4098344.0</td>\n",
       "      <td>4.040850e+09</td>\n",
       "      <td>College Point</td>\n",
       "    </tr>\n",
       "    <tr>\n",
       "      <th>12</th>\n",
       "      <td>21st Century Optics, Inc.</td>\n",
       "      <td>Ralph Woythaler</td>\n",
       "      <td>rwoythaler@21st centuryoptics.com</td>\n",
       "      <td>7183922310</td>\n",
       "      <td>47-00 33rd Street</td>\n",
       "      <td>Lond Island City</td>\n",
       "      <td>NY</td>\n",
       "      <td>11101</td>\n",
       "      <td>Manufacturing</td>\n",
       "      <td>Eye glasses</td>\n",
       "      <td>...</td>\n",
       "      <td>288983.01</td>\n",
       "      <td>Queens</td>\n",
       "      <td>40.742386</td>\n",
       "      <td>-73.932148</td>\n",
       "      <td>402.0</td>\n",
       "      <td>26.0</td>\n",
       "      <td>199.0</td>\n",
       "      <td>4003447.0</td>\n",
       "      <td>4.002520e+09</td>\n",
       "      <td>Hunters Point-Sunnyside-West Maspeth</td>\n",
       "    </tr>\n",
       "    <tr>\n",
       "      <th>14</th>\n",
       "      <td>4Over4.com</td>\n",
       "      <td>Anastasio Panagiotopolous</td>\n",
       "      <td>taso@4over4.com</td>\n",
       "      <td>7189322700</td>\n",
       "      <td>19-41 46th Street</td>\n",
       "      <td>Long Island City</td>\n",
       "      <td>NY</td>\n",
       "      <td>11105</td>\n",
       "      <td>Manufacturing</td>\n",
       "      <td>Printer</td>\n",
       "      <td>...</td>\n",
       "      <td>184923.14</td>\n",
       "      <td>Queens</td>\n",
       "      <td>40.774940</td>\n",
       "      <td>-73.896804</td>\n",
       "      <td>401.0</td>\n",
       "      <td>22.0</td>\n",
       "      <td>12301.0</td>\n",
       "      <td>4441806.0</td>\n",
       "      <td>4.007740e+09</td>\n",
       "      <td>Steinway</td>\n",
       "    </tr>\n",
       "    <tr>\n",
       "      <th>15</th>\n",
       "      <td>538-540 West 35 Corp</td>\n",
       "      <td>Richard Silver</td>\n",
       "      <td>tankman220@aol.com</td>\n",
       "      <td>2127366618</td>\n",
       "      <td>11-42 46th Road</td>\n",
       "      <td>Queens</td>\n",
       "      <td>NY</td>\n",
       "      <td>11101</td>\n",
       "      <td>Manufacturing</td>\n",
       "      <td>steel, wood &amp; cement tanks</td>\n",
       "      <td>...</td>\n",
       "      <td>56744.11</td>\n",
       "      <td>Queens</td>\n",
       "      <td>40.745510</td>\n",
       "      <td>-73.949497</td>\n",
       "      <td>402.0</td>\n",
       "      <td>26.0</td>\n",
       "      <td>7.0</td>\n",
       "      <td>4436616.0</td>\n",
       "      <td>4.000560e+09</td>\n",
       "      <td>Hunters Point-Sunnyside-West Maspeth</td>\n",
       "    </tr>\n",
       "  </tbody>\n",
       "</table>\n",
       "<p>5 rows × 26 columns</p>\n",
       "</div>"
      ],
      "text/plain": [
       "                 Company Name            company contact  \\\n",
       "6        139 ACA Realty, Inc.            Eitan Chandally   \n",
       "8      14-10 123rd Street LLC         Danica/Ivan Drazic   \n",
       "12  21st Century Optics, Inc.            Ralph Woythaler   \n",
       "14                 4Over4.com  Anastasio Panagiotopolous   \n",
       "15       538-540 West 35 Corp             Richard Silver   \n",
       "\n",
       "                        company email company phone             Address  \\\n",
       "6                   barbara@dial7.com    7187076123   43-23 35th Street   \n",
       "8           ddrazic@atjelectrical.com    7183210117  14-10 123rd Street   \n",
       "12  rwoythaler@21st centuryoptics.com    7183922310   47-00 33rd Street   \n",
       "14                    taso@4over4.com    7189322700   19-41 46th Street   \n",
       "15                 tankman220@aol.com    2127366618     11-42 46th Road   \n",
       "\n",
       "                City State  Postcode       Industry  \\\n",
       "6   Long Island City    NY     11101     Commercial   \n",
       "8      College Point    NY     11356     Commercial   \n",
       "12  Lond Island City    NY     11101  Manufacturing   \n",
       "14  Long Island City    NY     11105  Manufacturing   \n",
       "15            Queens    NY     11101  Manufacturing   \n",
       "\n",
       "                Industry descr  ... Savings from beginning receiving benefits  \\\n",
       "6            Limousine Service  ...                                 129401.39   \n",
       "8        Electrical Parts Mfg.  ...                                  28752.48   \n",
       "12                 Eye glasses  ...                                 288983.01   \n",
       "14                     Printer  ...                                 184923.14   \n",
       "15  steel, wood & cement tanks  ...                                  56744.11   \n",
       "\n",
       "    Borough   Latitude  Longitude Community Board  Council District  \\\n",
       "6    Queens  40.745706 -73.929565           402.0              26.0   \n",
       "8    Queens  40.785144 -73.844833           407.0              19.0   \n",
       "12   Queens  40.742386 -73.932148           402.0              26.0   \n",
       "14   Queens  40.774940 -73.896804           401.0              22.0   \n",
       "15   Queens  40.745510 -73.949497           402.0              26.0   \n",
       "\n",
       "    Census Tract        BIN           BBL  \\\n",
       "6          179.0  4003160.0  4.002220e+09   \n",
       "8          929.0  4098344.0  4.040850e+09   \n",
       "12         199.0  4003447.0  4.002520e+09   \n",
       "14       12301.0  4441806.0  4.007740e+09   \n",
       "15           7.0  4436616.0  4.000560e+09   \n",
       "\n",
       "                                     NTA  \n",
       "6   Hunters Point-Sunnyside-West Maspeth  \n",
       "8                          College Point  \n",
       "12  Hunters Point-Sunnyside-West Maspeth  \n",
       "14                              Steinway  \n",
       "15  Hunters Point-Sunnyside-West Maspeth  \n",
       "\n",
       "[5 rows x 26 columns]"
      ]
     },
     "execution_count": 9,
     "metadata": {},
     "output_type": "execute_result"
    }
   ],
   "source": [
    "queens = df[df['Borough'] == 'Queens']\n",
    "queens.head()"
   ]
  },
  {
   "cell_type": "code",
   "execution_count": 10,
   "id": "501331c3",
   "metadata": {},
   "outputs": [],
   "source": [
    "test = queens[queens['Job created'].isna() == False]"
   ]
  },
  {
   "cell_type": "code",
   "execution_count": 11,
   "id": "b6211802",
   "metadata": {},
   "outputs": [
    {
     "data": {
      "text/plain": [
       "29     10.0\n",
       "37     60.0\n",
       "137    10.0\n",
       "324     2.0\n",
       "433    20.0\n",
       "Name: Job created, dtype: float64"
      ]
     },
     "execution_count": 11,
     "metadata": {},
     "output_type": "execute_result"
    }
   ],
   "source": [
    "test['Job created']"
   ]
  },
  {
   "cell_type": "code",
   "execution_count": 12,
   "id": "87cf4dd1",
   "metadata": {},
   "outputs": [
    {
     "name": "stderr",
     "output_type": "stream",
     "text": [
      "C:\\Users\\ericr\\AppData\\Local\\Temp\\ipykernel_10896\\4039291230.py:1: FutureWarning: Dropping of nuisance columns in DataFrame reductions (with 'numeric_only=None') is deprecated; in a future version this will raise TypeError.  Select only valid columns before calling the reduction.\n",
      "  sums = queens.sum(0)\n"
     ]
    }
   ],
   "source": [
    "sums = queens.sum(0)"
   ]
  },
  {
   "cell_type": "code",
   "execution_count": 13,
   "id": "2ecb0dcd",
   "metadata": {
    "scrolled": true
   },
   "outputs": [
    {
     "data": {
      "text/plain": [
       "Company Name                                 139 ACA Realty, Inc.14-10 123rd Street LLC21st...\n",
       "company contact                              Eitan ChandallyDanica/Ivan DrazicRalph Woythal...\n",
       "company phone                                7187076123718321011771839223107189322700212736...\n",
       "Address                                      43-23 35th Street14-10 123rd Street47-00 33rd ...\n",
       "City                                         Long Island CityCollege PointLond Island CityL...\n",
       "State                                        NYNYNYNYNYNYNYNYNYNYNYNYNYNYNYNYNYNYNYNYNYNYNY...\n",
       "Postcode                                                                               1938615\n",
       "Industry                                     CommercialCommercialManufacturingManufacturing...\n",
       "Company Type                                 ECSPECSPECSPECSPECSPECSPECSPECSPECSPECSPECSPEC...\n",
       "Current fulltime                                                                       21384.0\n",
       "Job created                                                                              102.0\n",
       "Job retain                                                                              3599.0\n",
       "Effective Date                               04/07/200803/04/201101/07/200904/09/200806/07/...\n",
       "Total Savings                                                                        4446529.2\n",
       "Savings from beginning receiving benefits                                          42741264.59\n",
       "Borough                                      QueensQueensQueensQueensQueensQueensQueensQuee...\n",
       "Latitude                                                                            6233.25548\n",
       "Longitude                                                                        -11307.433445\n",
       "Community Board                                                                        61761.0\n",
       "Council District                                                                        3991.0\n",
       "Census Tract                                                                          299261.0\n",
       "BIN                                                                                627454710.0\n",
       "BBL                                                                             607546574102.0\n",
       "dtype: object"
      ]
     },
     "execution_count": 13,
     "metadata": {},
     "output_type": "execute_result"
    }
   ],
   "source": [
    "sums"
   ]
  },
  {
   "cell_type": "code",
   "execution_count": 14,
   "id": "49ce1d9d",
   "metadata": {},
   "outputs": [
    {
     "data": {
      "text/plain": [
       "Company Name                                 439\n",
       "company contact                              432\n",
       "company email                                420\n",
       "company phone                                430\n",
       "Address                                      421\n",
       "City                                          38\n",
       "State                                          1\n",
       "Postcode                                      96\n",
       "Industry                                       5\n",
       "Industry descr                               401\n",
       "Company Type                                   2\n",
       "Current fulltime                             158\n",
       "Job created                                    8\n",
       "Job retain                                    13\n",
       "Effective Date                               366\n",
       "Total Savings                                448\n",
       "Savings from beginning receiving benefits    450\n",
       "Borough                                        5\n",
       "Latitude                                     326\n",
       "Longitude                                    327\n",
       "Community Board                               48\n",
       "Council District                              38\n",
       "Census Tract                                 142\n",
       "BIN                                          308\n",
       "BBL                                          310\n",
       "NTA                                           79\n",
       "dtype: int64"
      ]
     },
     "execution_count": 14,
     "metadata": {},
     "output_type": "execute_result"
    }
   ],
   "source": [
    "df.nunique()"
   ]
  },
  {
   "cell_type": "code",
   "execution_count": 15,
   "id": "9b050ebb",
   "metadata": {},
   "outputs": [],
   "source": [
    "pattern = re.compile('%.*')"
   ]
  },
  {
   "cell_type": "code",
   "execution_count": 16,
   "id": "0dfaa235",
   "metadata": {},
   "outputs": [],
   "source": [
    "df['Domain'] = df['company email'].str.split('@').str[-1]"
   ]
  },
  {
   "cell_type": "code",
   "execution_count": 17,
   "id": "ff8d2740",
   "metadata": {},
   "outputs": [
    {
     "name": "stdout",
     "output_type": "stream",
     "text": [
      "<class 'pandas.core.frame.DataFrame'>\n",
      "RangeIndex: 450 entries, 0 to 449\n",
      "Data columns (total 27 columns):\n",
      " #   Column                                     Non-Null Count  Dtype  \n",
      "---  ------                                     --------------  -----  \n",
      " 0   Company Name                               450 non-null    object \n",
      " 1   company contact                            450 non-null    object \n",
      " 2   company email                              433 non-null    object \n",
      " 3   company phone                              450 non-null    object \n",
      " 4   Address                                    450 non-null    object \n",
      " 5   City                                       450 non-null    object \n",
      " 6   State                                      450 non-null    object \n",
      " 7   Postcode                                   450 non-null    int64  \n",
      " 8   Industry                                   450 non-null    object \n",
      " 9   Industry descr                             434 non-null    object \n",
      " 10  Company Type                               450 non-null    object \n",
      " 11  Current fulltime                           446 non-null    float64\n",
      " 12  Job created                                11 non-null     float64\n",
      " 13  Job retain                                 14 non-null     float64\n",
      " 14  Effective Date                             450 non-null    object \n",
      " 15  Total Savings                              450 non-null    float64\n",
      " 16  Savings from beginning receiving benefits  450 non-null    float64\n",
      " 17  Borough                                    450 non-null    object \n",
      " 18  Latitude                                   409 non-null    float64\n",
      " 19  Longitude                                  409 non-null    float64\n",
      " 20  Community Board                            409 non-null    float64\n",
      " 21  Council District                           409 non-null    float64\n",
      " 22  Census Tract                               409 non-null    float64\n",
      " 23  BIN                                        401 non-null    float64\n",
      " 24  BBL                                        401 non-null    float64\n",
      " 25  NTA                                        409 non-null    object \n",
      " 26  Domain                                     433 non-null    object \n",
      "dtypes: float64(12), int64(1), object(14)\n",
      "memory usage: 95.0+ KB\n"
     ]
    }
   ],
   "source": [
    "df.info()"
   ]
  },
  {
   "cell_type": "code",
   "execution_count": 18,
   "id": "d5079a10",
   "metadata": {},
   "outputs": [
    {
     "data": {
      "text/plain": [
       "Company Name                                 439\n",
       "company contact                              432\n",
       "company email                                420\n",
       "company phone                                430\n",
       "Address                                      421\n",
       "City                                          38\n",
       "State                                          1\n",
       "Postcode                                      96\n",
       "Industry                                       5\n",
       "Industry descr                               401\n",
       "Company Type                                   2\n",
       "Current fulltime                             158\n",
       "Job created                                    8\n",
       "Job retain                                    13\n",
       "Effective Date                               366\n",
       "Total Savings                                448\n",
       "Savings from beginning receiving benefits    450\n",
       "Borough                                        5\n",
       "Latitude                                     326\n",
       "Longitude                                    327\n",
       "Community Board                               48\n",
       "Council District                              38\n",
       "Census Tract                                 142\n",
       "BIN                                          308\n",
       "BBL                                          310\n",
       "NTA                                           79\n",
       "Domain                                       361\n",
       "dtype: int64"
      ]
     },
     "execution_count": 18,
     "metadata": {},
     "output_type": "execute_result"
    }
   ],
   "source": [
    "df.nunique()"
   ]
  },
  {
   "cell_type": "code",
   "execution_count": 19,
   "id": "a2070cd7",
   "metadata": {},
   "outputs": [],
   "source": [
    "counts = df['NTA'].value_counts()"
   ]
  },
  {
   "cell_type": "code",
   "execution_count": 20,
   "id": "93d47b81",
   "metadata": {},
   "outputs": [
    {
     "data": {
      "text/plain": [
       "Hunters Point-Sunnyside-West Maspeth        75\n",
       "Sunset Park West                            48\n",
       "Queensbridge-Ravenswood-Long Island City    16\n",
       "park-cemetery-etc-Brooklyn                  15\n",
       "Greenpoint                                  14\n",
       "                                            ..\n",
       "Washington Heights South                     1\n",
       "Forest Hills                                 1\n",
       "Morrisania-Melrose                           1\n",
       "Ocean Hill                                   1\n",
       "Co-op City                                   1\n",
       "Name: NTA, Length: 79, dtype: int64"
      ]
     },
     "execution_count": 20,
     "metadata": {},
     "output_type": "execute_result"
    }
   ],
   "source": [
    "counts"
   ]
  },
  {
   "cell_type": "code",
   "execution_count": 21,
   "id": "f669dda9",
   "metadata": {},
   "outputs": [
    {
     "data": {
      "text/plain": [
       "Hunters Point-Sunnyside-West Maspeth                75\n",
       "Sunset Park West                                    48\n",
       "Queensbridge-Ravenswood-Long Island City            16\n",
       "park-cemetery-etc-Brooklyn                          15\n",
       "Greenpoint                                          14\n",
       "Mott Haven-Port Morris                              14\n",
       "Hunts Point                                         13\n",
       "East Williamsburg                                   11\n",
       "Carroll Gardens-Columbia Street-Red Hook            11\n",
       "Bushwick South                                      10\n",
       "DUMBO-Vinegar Hill-Downtown Brooklyn-Boerum Hill    10\n",
       "East New York                                        9\n",
       "Maspeth                                              9\n",
       "Crown Heights North                                  9\n",
       "Manhattanville                                       9\n",
       "Battery Park City-Lower Manhattan                    9\n",
       "Steinway                                             7\n",
       "College Point                                        7\n",
       "Name: NTA, dtype: int64"
      ]
     },
     "execution_count": 21,
     "metadata": {},
     "output_type": "execute_result"
    }
   ],
   "source": [
    "counts2 = counts[counts > 5]\n",
    "counts2"
   ]
  },
  {
   "cell_type": "code",
   "execution_count": 22,
   "id": "e1d1577b",
   "metadata": {},
   "outputs": [],
   "source": [
    "groupedDf = df.groupby(['NTA'])"
   ]
  },
  {
   "cell_type": "code",
   "execution_count": 23,
   "id": "f02f5aa3",
   "metadata": {},
   "outputs": [
    {
     "data": {
      "text/plain": [
       "NTA\n",
       "Astoria                               3\n",
       "Baisley Park                          1\n",
       "Battery Park City-Lower Manhattan     9\n",
       "Bedford                               3\n",
       "Bensonhurst West                      1\n",
       "                                     ..\n",
       "Whitestone                            3\n",
       "Williamsburg                          1\n",
       "Windsor Terrace                       1\n",
       "Woodside                              3\n",
       "park-cemetery-etc-Brooklyn           15\n",
       "Name: NTA, Length: 79, dtype: int64"
      ]
     },
     "execution_count": 23,
     "metadata": {},
     "output_type": "execute_result"
    }
   ],
   "source": [
    "groupedDf['NTA'].size()"
   ]
  },
  {
   "cell_type": "code",
   "execution_count": 25,
   "id": "6820da65",
   "metadata": {},
   "outputs": [
    {
     "data": {
      "text/plain": [
       "NTA\n",
       "Astoria                              False\n",
       "Baisley Park                         False\n",
       "Battery Park City-Lower Manhattan     True\n",
       "Bedford                              False\n",
       "Bensonhurst West                     False\n",
       "                                     ...  \n",
       "Whitestone                           False\n",
       "Williamsburg                         False\n",
       "Windsor Terrace                      False\n",
       "Woodside                             False\n",
       "park-cemetery-etc-Brooklyn            True\n",
       "Name: NTA, Length: 79, dtype: bool"
      ]
     },
     "execution_count": 25,
     "metadata": {},
     "output_type": "execute_result"
    }
   ],
   "source": [
    "groupedDf['NTA'].count() > 4"
   ]
  },
  {
   "cell_type": "code",
   "execution_count": 26,
   "id": "cfdd18d1",
   "metadata": {},
   "outputs": [
    {
     "name": "stdout",
     "output_type": "stream",
     "text": [
      "<class 'pandas.core.frame.DataFrame'>\n",
      "RangeIndex: 79 entries, 0 to 78\n",
      "Data columns (total 2 columns):\n",
      " #   Column  Non-Null Count  Dtype \n",
      "---  ------  --------------  ----- \n",
      " 0   NTA     79 non-null     object\n",
      " 1   counts  79 non-null     int64 \n",
      "dtypes: int64(1), object(1)\n",
      "memory usage: 1.4+ KB\n"
     ]
    }
   ],
   "source": [
    "df2 = df.groupby(['NTA']).size().reset_index(name='counts')\n",
    "df2.info()"
   ]
  },
  {
   "cell_type": "code",
   "execution_count": 27,
   "id": "0781d71a",
   "metadata": {},
   "outputs": [],
   "source": [
    "df3 = pd.merge(df,df2,how = 'left',on='NTA')"
   ]
  },
  {
   "cell_type": "code",
   "execution_count": 28,
   "id": "717354f7",
   "metadata": {},
   "outputs": [],
   "source": [
    "df4 = df3[df3['counts']>4]"
   ]
  },
  {
   "cell_type": "code",
   "execution_count": 29,
   "id": "1197a434",
   "metadata": {},
   "outputs": [
    {
     "name": "stderr",
     "output_type": "stream",
     "text": [
      "C:\\Users\\ericr\\AppData\\Local\\Temp\\ipykernel_10896\\2077016920.py:1: FutureWarning: Indexing with multiple keys (implicitly converted to a tuple of keys) will be deprecated, use a list instead.\n",
      "  df4.groupby('NTA')['Total Savings','Job created'].agg('mean')\n"
     ]
    },
    {
     "data": {
      "text/html": [
       "<div>\n",
       "<style scoped>\n",
       "    .dataframe tbody tr th:only-of-type {\n",
       "        vertical-align: middle;\n",
       "    }\n",
       "\n",
       "    .dataframe tbody tr th {\n",
       "        vertical-align: top;\n",
       "    }\n",
       "\n",
       "    .dataframe thead th {\n",
       "        text-align: right;\n",
       "    }\n",
       "</style>\n",
       "<table border=\"1\" class=\"dataframe\">\n",
       "  <thead>\n",
       "    <tr style=\"text-align: right;\">\n",
       "      <th></th>\n",
       "      <th>Total Savings</th>\n",
       "      <th>Job created</th>\n",
       "    </tr>\n",
       "    <tr>\n",
       "      <th>NTA</th>\n",
       "      <th></th>\n",
       "      <th></th>\n",
       "    </tr>\n",
       "  </thead>\n",
       "  <tbody>\n",
       "    <tr>\n",
       "      <th>Battery Park City-Lower Manhattan</th>\n",
       "      <td>469890.796667</td>\n",
       "      <td>NaN</td>\n",
       "    </tr>\n",
       "    <tr>\n",
       "      <th>Bushwick South</th>\n",
       "      <td>26140.455000</td>\n",
       "      <td>10.000000</td>\n",
       "    </tr>\n",
       "    <tr>\n",
       "      <th>Carroll Gardens-Columbia Street-Red Hook</th>\n",
       "      <td>24337.390000</td>\n",
       "      <td>NaN</td>\n",
       "    </tr>\n",
       "    <tr>\n",
       "      <th>College Point</th>\n",
       "      <td>17159.372857</td>\n",
       "      <td>2.000000</td>\n",
       "    </tr>\n",
       "    <tr>\n",
       "      <th>Crown Heights North</th>\n",
       "      <td>4036.298889</td>\n",
       "      <td>NaN</td>\n",
       "    </tr>\n",
       "    <tr>\n",
       "      <th>DUMBO-Vinegar Hill-Downtown Brooklyn-Boerum Hill</th>\n",
       "      <td>59950.340000</td>\n",
       "      <td>NaN</td>\n",
       "    </tr>\n",
       "    <tr>\n",
       "      <th>East New York</th>\n",
       "      <td>48433.093333</td>\n",
       "      <td>15.000000</td>\n",
       "    </tr>\n",
       "    <tr>\n",
       "      <th>East Williamsburg</th>\n",
       "      <td>13990.626364</td>\n",
       "      <td>NaN</td>\n",
       "    </tr>\n",
       "    <tr>\n",
       "      <th>Greenpoint</th>\n",
       "      <td>9753.649286</td>\n",
       "      <td>NaN</td>\n",
       "    </tr>\n",
       "    <tr>\n",
       "      <th>Hunters Point-Sunnyside-West Maspeth</th>\n",
       "      <td>23931.398933</td>\n",
       "      <td>NaN</td>\n",
       "    </tr>\n",
       "    <tr>\n",
       "      <th>Hunts Point</th>\n",
       "      <td>39246.016154</td>\n",
       "      <td>12.000000</td>\n",
       "    </tr>\n",
       "    <tr>\n",
       "      <th>Manhattanville</th>\n",
       "      <td>2760.888889</td>\n",
       "      <td>NaN</td>\n",
       "    </tr>\n",
       "    <tr>\n",
       "      <th>Maspeth</th>\n",
       "      <td>6658.283333</td>\n",
       "      <td>10.000000</td>\n",
       "    </tr>\n",
       "    <tr>\n",
       "      <th>Mott Haven-Port Morris</th>\n",
       "      <td>17843.937857</td>\n",
       "      <td>3.333333</td>\n",
       "    </tr>\n",
       "    <tr>\n",
       "      <th>Queensbridge-Ravenswood-Long Island City</th>\n",
       "      <td>61830.770625</td>\n",
       "      <td>NaN</td>\n",
       "    </tr>\n",
       "    <tr>\n",
       "      <th>SoHo-TriBeCa-Civic Center-Little Italy</th>\n",
       "      <td>37214.024000</td>\n",
       "      <td>NaN</td>\n",
       "    </tr>\n",
       "    <tr>\n",
       "      <th>Springfield Gardens South-Brookville</th>\n",
       "      <td>17757.662000</td>\n",
       "      <td>NaN</td>\n",
       "    </tr>\n",
       "    <tr>\n",
       "      <th>Steinway</th>\n",
       "      <td>11227.155714</td>\n",
       "      <td>20.000000</td>\n",
       "    </tr>\n",
       "    <tr>\n",
       "      <th>Sunset Park West</th>\n",
       "      <td>14316.976875</td>\n",
       "      <td>NaN</td>\n",
       "    </tr>\n",
       "    <tr>\n",
       "      <th>park-cemetery-etc-Brooklyn</th>\n",
       "      <td>14327.419333</td>\n",
       "      <td>NaN</td>\n",
       "    </tr>\n",
       "  </tbody>\n",
       "</table>\n",
       "</div>"
      ],
      "text/plain": [
       "                                                  Total Savings  Job created\n",
       "NTA                                                                         \n",
       "Battery Park City-Lower Manhattan                 469890.796667          NaN\n",
       "Bushwick South                                     26140.455000    10.000000\n",
       "Carroll Gardens-Columbia Street-Red Hook           24337.390000          NaN\n",
       "College Point                                      17159.372857     2.000000\n",
       "Crown Heights North                                 4036.298889          NaN\n",
       "DUMBO-Vinegar Hill-Downtown Brooklyn-Boerum Hill   59950.340000          NaN\n",
       "East New York                                      48433.093333    15.000000\n",
       "East Williamsburg                                  13990.626364          NaN\n",
       "Greenpoint                                          9753.649286          NaN\n",
       "Hunters Point-Sunnyside-West Maspeth               23931.398933          NaN\n",
       "Hunts Point                                        39246.016154    12.000000\n",
       "Manhattanville                                      2760.888889          NaN\n",
       "Maspeth                                             6658.283333    10.000000\n",
       "Mott Haven-Port Morris                             17843.937857     3.333333\n",
       "Queensbridge-Ravenswood-Long Island City           61830.770625          NaN\n",
       "SoHo-TriBeCa-Civic Center-Little Italy             37214.024000          NaN\n",
       "Springfield Gardens South-Brookville               17757.662000          NaN\n",
       "Steinway                                           11227.155714    20.000000\n",
       "Sunset Park West                                   14316.976875          NaN\n",
       "park-cemetery-etc-Brooklyn                         14327.419333          NaN"
      ]
     },
     "execution_count": 29,
     "metadata": {},
     "output_type": "execute_result"
    }
   ],
   "source": [
    "df4.groupby('NTA')['Total Savings','Job created'].agg('mean')"
   ]
  },
  {
   "cell_type": "code",
   "execution_count": 34,
   "id": "57e5a20a",
   "metadata": {
    "scrolled": false
   },
   "outputs": [
    {
     "data": {
      "text/plain": [
       "0           0.00\n",
       "1      136578.20\n",
       "2      302959.40\n",
       "3        2159.67\n",
       "4      922407.32\n",
       "         ...    \n",
       "445     35384.76\n",
       "446      1457.26\n",
       "447      8971.02\n",
       "448      2484.84\n",
       "449         0.00\n",
       "Name: Total Savings, Length: 450, dtype: float64"
      ]
     },
     "execution_count": 34,
     "metadata": {},
     "output_type": "execute_result"
    }
   ],
   "source": [
    "x = df['Job created']\n",
    "y = df['Total Savings']\n",
    "x\n",
    "y"
   ]
  },
  {
   "cell_type": "code",
   "execution_count": 52,
   "id": "b1efa194",
   "metadata": {
    "scrolled": true
   },
   "outputs": [
    {
     "data": {
      "text/plain": [
       "Text(0.5, 1.0, 'Linear')"
      ]
     },
     "execution_count": 52,
     "metadata": {},
     "output_type": "execute_result"
    },
    {
     "data": {
      "image/png": "[encoded data removed]",
      "text/plain": [
       "<Figure size 432x288 with 1 Axes>"
      ]
     },
     "metadata": {
      "needs_background": "light"
     },
     "output_type": "display_data"
    }
   ],
   "source": [
    "jobvsaving = plt.scatter(x,y)\n",
    "plt.yscale('linear')\n",
    "plt.title('Linear')"
   ]
  },
  {
   "cell_type": "code",
   "execution_count": 53,
   "id": "58359540",
   "metadata": {
    "scrolled": true
   },
   "outputs": [
    {
     "data": {
      "text/plain": [
       "Text(0.5, 1.0, 'Log')"
      ]
     },
     "execution_count": 53,
     "metadata": {},
     "output_type": "execute_result"
    },
    {
     "data": {
      "image/png": "[encoded data removed]",
      "text/plain": [
       "<Figure size 432x288 with 1 Axes>"
      ]
     },
     "metadata": {
      "needs_background": "light"
     },
     "output_type": "display_data"
    }
   ],
   "source": [
    "jobvsaving = plt.scatter(x,y)\n",
    "plt.yscale('log')\n",
    "plt.title('Log')"
   ]
  },
  {
   "cell_type": "code",
   "execution_count": 63,
   "id": "65a98d0d",
   "metadata": {},
   "outputs": [
    {
     "data": {
      "image/png": "[encoded data removed]",
      "text/plain": [
       "<Figure size 432x288 with 1 Axes>"
      ]
     },
     "metadata": {
      "needs_background": "light"
     },
     "output_type": "display_data"
    }
   ],
   "source": [
    "plt.hist(y,bins= 'auto',log='true',facecolor='b')\n",
    "plt.xscale('log')"
   ]
  },
  {
   "cell_type": "code",
   "execution_count": 33,
   "id": "4d30763d",
   "metadata": {},
   "outputs": [
    {
     "name": "stdout",
     "output_type": "stream",
     "text": [
      "<class 'pandas.core.frame.DataFrame'>\n",
      "RangeIndex: 450 entries, 0 to 449\n",
      "Data columns (total 27 columns):\n",
      " #   Column                                     Non-Null Count  Dtype  \n",
      "---  ------                                     --------------  -----  \n",
      " 0   Company Name                               450 non-null    object \n",
      " 1   company contact                            450 non-null    object \n",
      " 2   company email                              433 non-null    object \n",
      " 3   company phone                              450 non-null    object \n",
      " 4   Address                                    450 non-null    object \n",
      " 5   City                                       450 non-null    object \n",
      " 6   State                                      450 non-null    object \n",
      " 7   Postcode                                   450 non-null    int64  \n",
      " 8   Industry                                   450 non-null    object \n",
      " 9   Industry descr                             434 non-null    object \n",
      " 10  Company Type                               450 non-null    object \n",
      " 11  Current fulltime                           446 non-null    float64\n",
      " 12  Job created                                11 non-null     float64\n",
      " 13  Job retain                                 14 non-null     float64\n",
      " 14  Effective Date                             450 non-null    object \n",
      " 15  Total Savings                              450 non-null    float64\n",
      " 16  Savings from beginning receiving benefits  450 non-null    float64\n",
      " 17  Borough                                    450 non-null    object \n",
      " 18  Latitude                                   409 non-null    float64\n",
      " 19  Longitude                                  409 non-null    float64\n",
      " 20  Community Board                            409 non-null    float64\n",
      " 21  Council District                           409 non-null    float64\n",
      " 22  Census Tract                               409 non-null    float64\n",
      " 23  BIN                                        401 non-null    float64\n",
      " 24  BBL                                        401 non-null    float64\n",
      " 25  NTA                                        409 non-null    object \n",
      " 26  Domain                                     433 non-null    object \n",
      "dtypes: float64(12), int64(1), object(14)\n",
      "memory usage: 95.0+ KB\n"
     ]
    }
   ],
   "source": [
    "df.info()"
   ]
  },
  {
   "cell_type": "code",
   "execution_count": 67,
   "id": "8a350f83",
   "metadata": {
    "scrolled": true
   },
   "outputs": [
    {
     "data": {
      "text/plain": [
       "0      03/04/2005\n",
       "1      04/02/2008\n",
       "2      01/05/2015\n",
       "3      02/03/2020\n",
       "4      06/30/2017\n",
       "          ...    \n",
       "445    12/09/2008\n",
       "446    12/05/2017\n",
       "447    08/03/2018\n",
       "448    01/26/2016\n",
       "449    10/03/2019\n",
       "Name: Effective Date, Length: 450, dtype: object"
      ]
     },
     "execution_count": 67,
     "metadata": {},
     "output_type": "execute_result"
    }
   ],
   "source": [
    "df['Effective Date']"
   ]
  },
  {
   "cell_type": "code",
   "execution_count": 72,
   "id": "e858e022",
   "metadata": {},
   "outputs": [],
   "source": [
    "def first2(s):\n",
    "    return s[:2]"
   ]
  },
  {
   "cell_type": "code",
   "execution_count": 73,
   "id": "36dc18c4",
   "metadata": {},
   "outputs": [],
   "source": [
    "df['Month'] = df['Effective Date'].apply(first2)"
   ]
  },
  {
   "cell_type": "code",
   "execution_count": 74,
   "id": "d91221b4",
   "metadata": {},
   "outputs": [
    {
     "data": {
      "text/plain": [
       "0      03\n",
       "1      04\n",
       "2      01\n",
       "3      02\n",
       "4      06\n",
       "       ..\n",
       "445    12\n",
       "446    12\n",
       "447    08\n",
       "448    01\n",
       "449    10\n",
       "Name: Month, Length: 450, dtype: object"
      ]
     },
     "execution_count": 74,
     "metadata": {},
     "output_type": "execute_result"
    }
   ],
   "source": [
    "df['Month']"
   ]
  },
  {
   "cell_type": "code",
   "execution_count": 75,
   "id": "48e69bb7",
   "metadata": {},
   "outputs": [],
   "source": [
    "monthJobCreated=[]"
   ]
  },
  {
   "cell_type": "code",
   "execution_count": 87,
   "id": "85aaad9c",
   "metadata": {},
   "outputs": [],
   "source": [
    "test2 = df.groupby(['Month']).sum()"
   ]
  },
  {
   "cell_type": "code",
   "execution_count": 92,
   "id": "0156d411",
   "metadata": {},
   "outputs": [
    {
     "data": {
      "text/html": [
       "<div>\n",
       "<style scoped>\n",
       "    .dataframe tbody tr th:only-of-type {\n",
       "        vertical-align: middle;\n",
       "    }\n",
       "\n",
       "    .dataframe tbody tr th {\n",
       "        vertical-align: top;\n",
       "    }\n",
       "\n",
       "    .dataframe thead th {\n",
       "        text-align: right;\n",
       "    }\n",
       "</style>\n",
       "<table border=\"1\" class=\"dataframe\">\n",
       "  <thead>\n",
       "    <tr style=\"text-align: right;\">\n",
       "      <th></th>\n",
       "      <th>Postcode</th>\n",
       "      <th>Current fulltime</th>\n",
       "      <th>Job created</th>\n",
       "      <th>Job retain</th>\n",
       "      <th>Total Savings</th>\n",
       "      <th>Savings from beginning receiving benefits</th>\n",
       "      <th>Latitude</th>\n",
       "      <th>Longitude</th>\n",
       "      <th>Community Board</th>\n",
       "      <th>Council District</th>\n",
       "      <th>Census Tract</th>\n",
       "      <th>BIN</th>\n",
       "      <th>BBL</th>\n",
       "    </tr>\n",
       "    <tr>\n",
       "      <th>Month</th>\n",
       "      <th></th>\n",
       "      <th></th>\n",
       "      <th></th>\n",
       "      <th></th>\n",
       "      <th></th>\n",
       "      <th></th>\n",
       "      <th></th>\n",
       "      <th></th>\n",
       "      <th></th>\n",
       "      <th></th>\n",
       "      <th></th>\n",
       "      <th></th>\n",
       "      <th></th>\n",
       "    </tr>\n",
       "  </thead>\n",
       "  <tbody>\n",
       "    <tr>\n",
       "      <th>01</th>\n",
       "      <td>425022</td>\n",
       "      <td>5148.0</td>\n",
       "      <td>0.0</td>\n",
       "      <td>4.0</td>\n",
       "      <td>1636975.56</td>\n",
       "      <td>14762104.69</td>\n",
       "      <td>1507.189909</td>\n",
       "      <td>-2735.605314</td>\n",
       "      <td>11216.0</td>\n",
       "      <td>894.0</td>\n",
       "      <td>79886.0</td>\n",
       "      <td>107242663.0</td>\n",
       "      <td>1.048498e+11</td>\n",
       "    </tr>\n",
       "    <tr>\n",
       "      <th>02</th>\n",
       "      <td>449558</td>\n",
       "      <td>2612.0</td>\n",
       "      <td>27.0</td>\n",
       "      <td>290.0</td>\n",
       "      <td>687503.49</td>\n",
       "      <td>7299118.59</td>\n",
       "      <td>1507.152057</td>\n",
       "      <td>-2735.596594</td>\n",
       "      <td>11090.0</td>\n",
       "      <td>995.0</td>\n",
       "      <td>86858.0</td>\n",
       "      <td>103745005.0</td>\n",
       "      <td>9.975810e+10</td>\n",
       "    </tr>\n",
       "    <tr>\n",
       "      <th>03</th>\n",
       "      <td>420921</td>\n",
       "      <td>4235.0</td>\n",
       "      <td>20.0</td>\n",
       "      <td>96.0</td>\n",
       "      <td>865753.18</td>\n",
       "      <td>12884844.13</td>\n",
       "      <td>1547.148797</td>\n",
       "      <td>-2809.947307</td>\n",
       "      <td>12091.0</td>\n",
       "      <td>1106.0</td>\n",
       "      <td>88633.0</td>\n",
       "      <td>125282728.0</td>\n",
       "      <td>1.200335e+11</td>\n",
       "    </tr>\n",
       "    <tr>\n",
       "      <th>04</th>\n",
       "      <td>411602</td>\n",
       "      <td>1861.0</td>\n",
       "      <td>2.0</td>\n",
       "      <td>5.0</td>\n",
       "      <td>701164.67</td>\n",
       "      <td>9141496.41</td>\n",
       "      <td>1302.624864</td>\n",
       "      <td>-2365.512611</td>\n",
       "      <td>10653.0</td>\n",
       "      <td>928.0</td>\n",
       "      <td>143450.0</td>\n",
       "      <td>111526249.0</td>\n",
       "      <td>1.060398e+11</td>\n",
       "    </tr>\n",
       "    <tr>\n",
       "      <th>05</th>\n",
       "      <td>280248</td>\n",
       "      <td>1680.0</td>\n",
       "      <td>2.0</td>\n",
       "      <td>516.0</td>\n",
       "      <td>427441.59</td>\n",
       "      <td>7325100.37</td>\n",
       "      <td>976.976865</td>\n",
       "      <td>-1774.758931</td>\n",
       "      <td>8312.0</td>\n",
       "      <td>766.0</td>\n",
       "      <td>8200.0</td>\n",
       "      <td>87243043.0</td>\n",
       "      <td>8.256157e+10</td>\n",
       "    </tr>\n",
       "    <tr>\n",
       "      <th>06</th>\n",
       "      <td>549026</td>\n",
       "      <td>6937.0</td>\n",
       "      <td>63.0</td>\n",
       "      <td>2993.0</td>\n",
       "      <td>2092370.66</td>\n",
       "      <td>22396322.48</td>\n",
       "      <td>1751.927855</td>\n",
       "      <td>-3179.079784</td>\n",
       "      <td>14078.0</td>\n",
       "      <td>1089.0</td>\n",
       "      <td>74088.0</td>\n",
       "      <td>142119080.0</td>\n",
       "      <td>1.369212e+11</td>\n",
       "    </tr>\n",
       "    <tr>\n",
       "      <th>07</th>\n",
       "      <td>704752</td>\n",
       "      <td>12741.0</td>\n",
       "      <td>20.0</td>\n",
       "      <td>54.0</td>\n",
       "      <td>5948439.66</td>\n",
       "      <td>77021807.05</td>\n",
       "      <td>2361.973480</td>\n",
       "      <td>-4288.779364</td>\n",
       "      <td>18015.0</td>\n",
       "      <td>1634.0</td>\n",
       "      <td>102568.0</td>\n",
       "      <td>180488020.0</td>\n",
       "      <td>1.732677e+11</td>\n",
       "    </tr>\n",
       "    <tr>\n",
       "      <th>08</th>\n",
       "      <td>343029</td>\n",
       "      <td>4855.0</td>\n",
       "      <td>0.0</td>\n",
       "      <td>0.0</td>\n",
       "      <td>2873982.77</td>\n",
       "      <td>7881849.35</td>\n",
       "      <td>1180.769672</td>\n",
       "      <td>-2144.488794</td>\n",
       "      <td>9207.0</td>\n",
       "      <td>832.0</td>\n",
       "      <td>57813.0</td>\n",
       "      <td>93054072.0</td>\n",
       "      <td>8.957366e+10</td>\n",
       "    </tr>\n",
       "    <tr>\n",
       "      <th>09</th>\n",
       "      <td>242774</td>\n",
       "      <td>2510.0</td>\n",
       "      <td>0.0</td>\n",
       "      <td>0.0</td>\n",
       "      <td>457315.99</td>\n",
       "      <td>8134214.76</td>\n",
       "      <td>692.116025</td>\n",
       "      <td>-1256.831375</td>\n",
       "      <td>5899.0</td>\n",
       "      <td>480.0</td>\n",
       "      <td>70176.0</td>\n",
       "      <td>62241230.0</td>\n",
       "      <td>5.867354e+10</td>\n",
       "    </tr>\n",
       "    <tr>\n",
       "      <th>10</th>\n",
       "      <td>497121</td>\n",
       "      <td>5231.0</td>\n",
       "      <td>0.0</td>\n",
       "      <td>0.0</td>\n",
       "      <td>506014.27</td>\n",
       "      <td>7806387.20</td>\n",
       "      <td>1588.150954</td>\n",
       "      <td>-2883.946059</td>\n",
       "      <td>12461.0</td>\n",
       "      <td>1073.0</td>\n",
       "      <td>31189.0</td>\n",
       "      <td>132657384.0</td>\n",
       "      <td>1.277658e+11</td>\n",
       "    </tr>\n",
       "    <tr>\n",
       "      <th>11</th>\n",
       "      <td>241420</td>\n",
       "      <td>867.0</td>\n",
       "      <td>5.0</td>\n",
       "      <td>20.0</td>\n",
       "      <td>363459.09</td>\n",
       "      <td>4009031.63</td>\n",
       "      <td>814.319237</td>\n",
       "      <td>-1479.496540</td>\n",
       "      <td>6388.0</td>\n",
       "      <td>584.0</td>\n",
       "      <td>65319.0</td>\n",
       "      <td>66556484.0</td>\n",
       "      <td>6.339342e+10</td>\n",
       "    </tr>\n",
       "    <tr>\n",
       "      <th>12</th>\n",
       "      <td>395383</td>\n",
       "      <td>6710.0</td>\n",
       "      <td>10.0</td>\n",
       "      <td>187.0</td>\n",
       "      <td>1186581.10</td>\n",
       "      <td>11894758.35</td>\n",
       "      <td>1425.068147</td>\n",
       "      <td>-2588.389049</td>\n",
       "      <td>10645.0</td>\n",
       "      <td>999.0</td>\n",
       "      <td>29894.0</td>\n",
       "      <td>109497612.0</td>\n",
       "      <td>1.056846e+11</td>\n",
       "    </tr>\n",
       "  </tbody>\n",
       "</table>\n",
       "</div>"
      ],
      "text/plain": [
       "       Postcode  Current fulltime  Job created  Job retain  Total Savings  \\\n",
       "Month                                                                       \n",
       "01       425022            5148.0          0.0         4.0     1636975.56   \n",
       "02       449558            2612.0         27.0       290.0      687503.49   \n",
       "03       420921            4235.0         20.0        96.0      865753.18   \n",
       "04       411602            1861.0          2.0         5.0      701164.67   \n",
       "05       280248            1680.0          2.0       516.0      427441.59   \n",
       "06       549026            6937.0         63.0      2993.0     2092370.66   \n",
       "07       704752           12741.0         20.0        54.0     5948439.66   \n",
       "08       343029            4855.0          0.0         0.0     2873982.77   \n",
       "09       242774            2510.0          0.0         0.0      457315.99   \n",
       "10       497121            5231.0          0.0         0.0      506014.27   \n",
       "11       241420             867.0          5.0        20.0      363459.09   \n",
       "12       395383            6710.0         10.0       187.0     1186581.10   \n",
       "\n",
       "       Savings from beginning receiving benefits     Latitude    Longitude  \\\n",
       "Month                                                                        \n",
       "01                                   14762104.69  1507.189909 -2735.605314   \n",
       "02                                    7299118.59  1507.152057 -2735.596594   \n",
       "03                                   12884844.13  1547.148797 -2809.947307   \n",
       "04                                    9141496.41  1302.624864 -2365.512611   \n",
       "05                                    7325100.37   976.976865 -1774.758931   \n",
       "06                                   22396322.48  1751.927855 -3179.079784   \n",
       "07                                   77021807.05  2361.973480 -4288.779364   \n",
       "08                                    7881849.35  1180.769672 -2144.488794   \n",
       "09                                    8134214.76   692.116025 -1256.831375   \n",
       "10                                    7806387.20  1588.150954 -2883.946059   \n",
       "11                                    4009031.63   814.319237 -1479.496540   \n",
       "12                                   11894758.35  1425.068147 -2588.389049   \n",
       "\n",
       "       Community Board  Council District  Census Tract          BIN  \\\n",
       "Month                                                                 \n",
       "01             11216.0             894.0       79886.0  107242663.0   \n",
       "02             11090.0             995.0       86858.0  103745005.0   \n",
       "03             12091.0            1106.0       88633.0  125282728.0   \n",
       "04             10653.0             928.0      143450.0  111526249.0   \n",
       "05              8312.0             766.0        8200.0   87243043.0   \n",
       "06             14078.0            1089.0       74088.0  142119080.0   \n",
       "07             18015.0            1634.0      102568.0  180488020.0   \n",
       "08              9207.0             832.0       57813.0   93054072.0   \n",
       "09              5899.0             480.0       70176.0   62241230.0   \n",
       "10             12461.0            1073.0       31189.0  132657384.0   \n",
       "11              6388.0             584.0       65319.0   66556484.0   \n",
       "12             10645.0             999.0       29894.0  109497612.0   \n",
       "\n",
       "                BBL  \n",
       "Month                \n",
       "01     1.048498e+11  \n",
       "02     9.975810e+10  \n",
       "03     1.200335e+11  \n",
       "04     1.060398e+11  \n",
       "05     8.256157e+10  \n",
       "06     1.369212e+11  \n",
       "07     1.732677e+11  \n",
       "08     8.957366e+10  \n",
       "09     5.867354e+10  \n",
       "10     1.277658e+11  \n",
       "11     6.339342e+10  \n",
       "12     1.056846e+11  "
      ]
     },
     "execution_count": 92,
     "metadata": {},
     "output_type": "execute_result"
    }
   ],
   "source": [
    "test2"
   ]
  },
  {
   "cell_type": "code",
   "execution_count": 100,
   "id": "048e94bd",
   "metadata": {
    "scrolled": true
   },
   "outputs": [
    {
     "ename": "TypeError",
     "evalue": "'str' object is not callable",
     "output_type": "error",
     "traceback": [
      "\u001b[1;31m---------------------------------------------------------------------------\u001b[0m",
      "\u001b[1;31mTypeError\u001b[0m                                 Traceback (most recent call last)",
      "Input \u001b[1;32mIn [100]\u001b[0m, in \u001b[0;36m<cell line: 2>\u001b[1;34m()\u001b[0m\n\u001b[0;32m      1\u001b[0m plt\u001b[38;5;241m.\u001b[39mplot(test2\u001b[38;5;241m.\u001b[39mindex,test2[\u001b[38;5;124m'\u001b[39m\u001b[38;5;124mJob created\u001b[39m\u001b[38;5;124m'\u001b[39m])\n\u001b[1;32m----> 2\u001b[0m \u001b[43mplt\u001b[49m\u001b[38;5;241;43m.\u001b[39;49m\u001b[43mylabel\u001b[49m\u001b[43m(\u001b[49m\u001b[38;5;124;43m'\u001b[39;49m\u001b[38;5;124;43mJobs created\u001b[39;49m\u001b[38;5;124;43m'\u001b[39;49m\u001b[43m)\u001b[49m\n\u001b[0;32m      3\u001b[0m plt\u001b[38;5;241m.\u001b[39mxlabel(\u001b[38;5;124m'\u001b[39m\u001b[38;5;124mMonth\u001b[39m\u001b[38;5;124m'\u001b[39m)\n",
      "\u001b[1;31mTypeError\u001b[0m: 'str' object is not callable"
     ]
    },
    {
     "data": {
      "image/png": "[encoded data removed]",
      "text/plain": [
       "<Figure size 432x288 with 1 Axes>"
      ]
     },
     "metadata": {
      "needs_background": "light"
     },
     "output_type": "display_data"
    }
   ],
   "source": [
    "plt.plot(test2.index,test2['Job created'])\n",
    "plt.title('Jobs created vs Month')\n",
    "plt.ylabel('Jobs created')\n",
    "plt.xlabel('Month')\n"
   ]
  },
  {
   "cell_type": "code",
   "execution_count": 123,
   "id": "28b1ca89",
   "metadata": {},
   "outputs": [
    {
     "data": {
      "image/png": "[encoded data removed]",
      "text/plain": [
       "<Figure size 432x288 with 4 Axes>"
      ]
     },
     "metadata": {
      "needs_background": "light"
     },
     "output_type": "display_data"
    }
   ],
   "source": [
    "p1=plt.subplot(221)\n",
    "p1.scatter(x,y)\n",
    "p1.set_title('Jobs Created vs Savings')\n",
    "p1.set_ylabel('Jobs created')\n",
    "p1.set_xlabel('Savings')\n",
    "\n",
    "\n",
    "p2=plt.subplot(222)\n",
    "p2.scatter(x,y)\n",
    "p2.set_yscale('log')\n",
    "p2.set_title('Jobs Created vs Log of Savings')\n",
    "p2.set_ylabel('Jobs Created')\n",
    "p2.set_xlabel('Log of Savings')\n",
    "\n",
    "\n",
    "\n",
    "p3=plt.subplot(223)\n",
    "p3.hist(y,bins= 'auto',log='true',facecolor='b')\n",
    "p3.set_xscale('log')\n",
    "p3.set_title('Histogram of the log of average total savings')\n",
    "p3.set_ylabel('Average Total Savings')\n",
    "p3.set_xlabel('Frequency')\n",
    "\n",
    "\n",
    "\n",
    "p4=plt.subplot(224)\n",
    "p4.plot(test2.index,test2['Job created'])\n",
    "p4.set_title('Jobs created per Month')\n",
    "p4.set_ylabel('Jobs created')\n",
    "p4.set_xlabel('Month')\n",
    "\n",
    "plt.tight_layout(w_pad=5.0)\n",
    "plt.show()"
   ]
  },
  {
   "cell_type": "code",
   "execution_count": null,
   "id": "899d9d92",
   "metadata": {},
   "outputs": [],
   "source": []
  }
 ],
 "metadata": {
  "kernelspec": {
   "display_name": "Python 3 (ipykernel)",
   "language": "python",
   "name": "python3"
  },
  "language_info": {
   "codemirror_mode": {
    "name": "ipython",
    "version": 3
   },
   "file_extension": ".py",
   "mimetype": "text/x-python",
   "name": "python",
   "nbconvert_exporter": "python",
   "pygments_lexer": "ipython3",
   "version": "3.9.12"
  }
 },
 "nbformat": 4,
 "nbformat_minor": 5
}
